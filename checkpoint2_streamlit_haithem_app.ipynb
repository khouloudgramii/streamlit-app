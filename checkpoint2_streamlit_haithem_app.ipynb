{
  "nbformat": 4,
  "nbformat_minor": 0,
  "metadata": {
    "colab": {
      "provenance": []
    },
    "kernelspec": {
      "name": "python3",
      "display_name": "Python 3"
    },
    "language_info": {
      "name": "python"
    }
  },
  "cells": [
    {
      "cell_type": "code",
      "source": [
        "!npm install localtunnel"
      ],
      "metadata": {
        "colab": {
          "base_uri": "https://localhost:8080/"
        },
        "id": "7pSaiwkIYeLB",
        "outputId": "0b768a13-76ae-487a-bc10-c6f2af86bda9"
      },
      "execution_count": null,
      "outputs": [
        {
          "output_type": "stream",
          "name": "stdout",
          "text": [
            "\u001b[K\u001b[?25h\u001b[37;40mnpm\u001b[0m \u001b[0m\u001b[30;43mWARN\u001b[0m \u001b[0m\u001b[35msaveError\u001b[0m ENOENT: no such file or directory, open '/content/package.json'\n",
            "\u001b[0m\u001b[37;40mnpm\u001b[0m \u001b[0m\u001b[34;40mnotice\u001b[0m\u001b[35m\u001b[0m created a lockfile as package-lock.json. You should commit this file.\n",
            "\u001b[0m\u001b[37;40mnpm\u001b[0m \u001b[0m\u001b[30;43mWARN\u001b[0m \u001b[0m\u001b[35menoent\u001b[0m ENOENT: no such file or directory, open '/content/package.json'\n",
            "\u001b[0m\u001b[37;40mnpm\u001b[0m \u001b[0m\u001b[30;43mWARN\u001b[0m\u001b[35m\u001b[0m content No description\n",
            "\u001b[0m\u001b[37;40mnpm\u001b[0m \u001b[0m\u001b[30;43mWARN\u001b[0m\u001b[35m\u001b[0m content No repository field.\n",
            "\u001b[0m\u001b[37;40mnpm\u001b[0m \u001b[0m\u001b[30;43mWARN\u001b[0m\u001b[35m\u001b[0m content No README data\n",
            "\u001b[0m\u001b[37;40mnpm\u001b[0m \u001b[0m\u001b[30;43mWARN\u001b[0m\u001b[35m\u001b[0m content No license field.\n",
            "\u001b[0m\n",
            "+ localtunnel@2.0.2\n",
            "added 22 packages from 22 contributors and audited 22 packages in 3.712s\n",
            "\n",
            "3 packages are looking for funding\n",
            "  run `npm fund` for details\n",
            "\n",
            "found 1 \u001b[93mmoderate\u001b[0m severity vulnerability\n",
            "  run `npm audit fix` to fix them, or `npm audit` for details\n",
            "\u001b[K\u001b[?25h"
          ]
        }
      ]
    },
    {
      "cell_type": "code",
      "execution_count": null,
      "metadata": {
        "colab": {
          "base_uri": "https://localhost:8080/"
        },
        "id": "SFoBVZzYTTTj",
        "outputId": "674795f5-33cd-4805-ddd5-44771ca59133"
      },
      "outputs": [
        {
          "output_type": "stream",
          "name": "stdout",
          "text": [
            "Collecting streamlit\n",
            "  Downloading streamlit-1.30.0-py2.py3-none-any.whl (8.4 MB)\n",
            "\u001b[2K     \u001b[90m━━━━━━━━━━━━━━━━━━━━━━━━━━━━━━━━━━━━━━━━\u001b[0m \u001b[32m8.4/8.4 MB\u001b[0m \u001b[31m26.8 MB/s\u001b[0m eta \u001b[36m0:00:00\u001b[0m\n",
            "\u001b[?25hRequirement already satisfied: altair<6,>=4.0 in /usr/local/lib/python3.10/dist-packages (from streamlit) (4.2.2)\n",
            "Requirement already satisfied: blinker<2,>=1.0.0 in /usr/lib/python3/dist-packages (from streamlit) (1.4)\n",
            "Requirement already satisfied: cachetools<6,>=4.0 in /usr/local/lib/python3.10/dist-packages (from streamlit) (5.3.2)\n",
            "Requirement already satisfied: click<9,>=7.0 in /usr/local/lib/python3.10/dist-packages (from streamlit) (8.1.7)\n",
            "Requirement already satisfied: importlib-metadata<8,>=1.4 in /usr/local/lib/python3.10/dist-packages (from streamlit) (7.0.1)\n",
            "Requirement already satisfied: numpy<2,>=1.19.3 in /usr/local/lib/python3.10/dist-packages (from streamlit) (1.23.5)\n",
            "Requirement already satisfied: packaging<24,>=16.8 in /usr/local/lib/python3.10/dist-packages (from streamlit) (23.2)\n",
            "Requirement already satisfied: pandas<3,>=1.3.0 in /usr/local/lib/python3.10/dist-packages (from streamlit) (1.5.3)\n",
            "Requirement already satisfied: pillow<11,>=7.1.0 in /usr/local/lib/python3.10/dist-packages (from streamlit) (9.4.0)\n",
            "Requirement already satisfied: protobuf<5,>=3.20 in /usr/local/lib/python3.10/dist-packages (from streamlit) (3.20.3)\n",
            "Requirement already satisfied: pyarrow>=6.0 in /usr/local/lib/python3.10/dist-packages (from streamlit) (10.0.1)\n",
            "Requirement already satisfied: python-dateutil<3,>=2.7.3 in /usr/local/lib/python3.10/dist-packages (from streamlit) (2.8.2)\n",
            "Requirement already satisfied: requests<3,>=2.27 in /usr/local/lib/python3.10/dist-packages (from streamlit) (2.31.0)\n",
            "Requirement already satisfied: rich<14,>=10.14.0 in /usr/local/lib/python3.10/dist-packages (from streamlit) (13.7.0)\n",
            "Requirement already satisfied: tenacity<9,>=8.1.0 in /usr/local/lib/python3.10/dist-packages (from streamlit) (8.2.3)\n",
            "Requirement already satisfied: toml<2,>=0.10.1 in /usr/local/lib/python3.10/dist-packages (from streamlit) (0.10.2)\n",
            "Requirement already satisfied: typing-extensions<5,>=4.3.0 in /usr/local/lib/python3.10/dist-packages (from streamlit) (4.5.0)\n",
            "Requirement already satisfied: tzlocal<6,>=1.1 in /usr/local/lib/python3.10/dist-packages (from streamlit) (5.2)\n",
            "Collecting validators<1,>=0.2 (from streamlit)\n",
            "  Downloading validators-0.22.0-py3-none-any.whl (26 kB)\n",
            "Collecting gitpython!=3.1.19,<4,>=3.0.7 (from streamlit)\n",
            "  Downloading GitPython-3.1.41-py3-none-any.whl (196 kB)\n",
            "\u001b[2K     \u001b[90m━━━━━━━━━━━━━━━━━━━━━━━━━━━━━━━━━━━━━━━━\u001b[0m \u001b[32m196.4/196.4 kB\u001b[0m \u001b[31m18.7 MB/s\u001b[0m eta \u001b[36m0:00:00\u001b[0m\n",
            "\u001b[?25hCollecting pydeck<1,>=0.8.0b4 (from streamlit)\n",
            "  Downloading pydeck-0.8.1b0-py2.py3-none-any.whl (4.8 MB)\n",
            "\u001b[2K     \u001b[90m━━━━━━━━━━━━━━━━━━━━━━━━━━━━━━━━━━━━━━━━\u001b[0m \u001b[32m4.8/4.8 MB\u001b[0m \u001b[31m57.2 MB/s\u001b[0m eta \u001b[36m0:00:00\u001b[0m\n",
            "\u001b[?25hRequirement already satisfied: tornado<7,>=6.0.3 in /usr/local/lib/python3.10/dist-packages (from streamlit) (6.3.2)\n",
            "Collecting watchdog>=2.1.5 (from streamlit)\n",
            "  Downloading watchdog-3.0.0-py3-none-manylinux2014_x86_64.whl (82 kB)\n",
            "\u001b[2K     \u001b[90m━━━━━━━━━━━━━━━━━━━━━━━━━━━━━━━━━━━━━━━━\u001b[0m \u001b[32m82.1/82.1 kB\u001b[0m \u001b[31m9.9 MB/s\u001b[0m eta \u001b[36m0:00:00\u001b[0m\n",
            "\u001b[?25hRequirement already satisfied: entrypoints in /usr/local/lib/python3.10/dist-packages (from altair<6,>=4.0->streamlit) (0.4)\n",
            "Requirement already satisfied: jinja2 in /usr/local/lib/python3.10/dist-packages (from altair<6,>=4.0->streamlit) (3.1.3)\n",
            "Requirement already satisfied: jsonschema>=3.0 in /usr/local/lib/python3.10/dist-packages (from altair<6,>=4.0->streamlit) (4.19.2)\n",
            "Requirement already satisfied: toolz in /usr/local/lib/python3.10/dist-packages (from altair<6,>=4.0->streamlit) (0.12.0)\n",
            "Collecting gitdb<5,>=4.0.1 (from gitpython!=3.1.19,<4,>=3.0.7->streamlit)\n",
            "  Downloading gitdb-4.0.11-py3-none-any.whl (62 kB)\n",
            "\u001b[2K     \u001b[90m━━━━━━━━━━━━━━━━━━━━━━━━━━━━━━━━━━━━━━━━\u001b[0m \u001b[32m62.7/62.7 kB\u001b[0m \u001b[31m6.7 MB/s\u001b[0m eta \u001b[36m0:00:00\u001b[0m\n",
            "\u001b[?25hRequirement already satisfied: zipp>=0.5 in /usr/local/lib/python3.10/dist-packages (from importlib-metadata<8,>=1.4->streamlit) (3.17.0)\n",
            "Requirement already satisfied: pytz>=2020.1 in /usr/local/lib/python3.10/dist-packages (from pandas<3,>=1.3.0->streamlit) (2023.3.post1)\n",
            "Requirement already satisfied: six>=1.5 in /usr/local/lib/python3.10/dist-packages (from python-dateutil<3,>=2.7.3->streamlit) (1.16.0)\n",
            "Requirement already satisfied: charset-normalizer<4,>=2 in /usr/local/lib/python3.10/dist-packages (from requests<3,>=2.27->streamlit) (3.3.2)\n",
            "Requirement already satisfied: idna<4,>=2.5 in /usr/local/lib/python3.10/dist-packages (from requests<3,>=2.27->streamlit) (3.6)\n",
            "Requirement already satisfied: urllib3<3,>=1.21.1 in /usr/local/lib/python3.10/dist-packages (from requests<3,>=2.27->streamlit) (2.0.7)\n",
            "Requirement already satisfied: certifi>=2017.4.17 in /usr/local/lib/python3.10/dist-packages (from requests<3,>=2.27->streamlit) (2023.11.17)\n",
            "Requirement already satisfied: markdown-it-py>=2.2.0 in /usr/local/lib/python3.10/dist-packages (from rich<14,>=10.14.0->streamlit) (3.0.0)\n",
            "Requirement already satisfied: pygments<3.0.0,>=2.13.0 in /usr/local/lib/python3.10/dist-packages (from rich<14,>=10.14.0->streamlit) (2.16.1)\n",
            "Collecting smmap<6,>=3.0.1 (from gitdb<5,>=4.0.1->gitpython!=3.1.19,<4,>=3.0.7->streamlit)\n",
            "  Downloading smmap-5.0.1-py3-none-any.whl (24 kB)\n",
            "Requirement already satisfied: MarkupSafe>=2.0 in /usr/local/lib/python3.10/dist-packages (from jinja2->altair<6,>=4.0->streamlit) (2.1.4)\n",
            "Requirement already satisfied: attrs>=22.2.0 in /usr/local/lib/python3.10/dist-packages (from jsonschema>=3.0->altair<6,>=4.0->streamlit) (23.2.0)\n",
            "Requirement already satisfied: jsonschema-specifications>=2023.03.6 in /usr/local/lib/python3.10/dist-packages (from jsonschema>=3.0->altair<6,>=4.0->streamlit) (2023.12.1)\n",
            "Requirement already satisfied: referencing>=0.28.4 in /usr/local/lib/python3.10/dist-packages (from jsonschema>=3.0->altair<6,>=4.0->streamlit) (0.32.1)\n",
            "Requirement already satisfied: rpds-py>=0.7.1 in /usr/local/lib/python3.10/dist-packages (from jsonschema>=3.0->altair<6,>=4.0->streamlit) (0.17.1)\n",
            "Requirement already satisfied: mdurl~=0.1 in /usr/local/lib/python3.10/dist-packages (from markdown-it-py>=2.2.0->rich<14,>=10.14.0->streamlit) (0.1.2)\n",
            "Installing collected packages: watchdog, validators, smmap, pydeck, gitdb, gitpython, streamlit\n",
            "Successfully installed gitdb-4.0.11 gitpython-3.1.41 pydeck-0.8.1b0 smmap-5.0.1 streamlit-1.30.0 validators-0.22.0 watchdog-3.0.0\n"
          ]
        }
      ],
      "source": [
        "!pip install streamlit"
      ]
    },
    {
      "cell_type": "code",
      "source": [
        "! pip install pyngrok"
      ],
      "metadata": {
        "colab": {
          "base_uri": "https://localhost:8080/"
        },
        "id": "9BASy0oMTd66",
        "outputId": "52bc06df-23ee-40a6-a818-87d4fc4b4032"
      },
      "execution_count": null,
      "outputs": [
        {
          "output_type": "stream",
          "name": "stdout",
          "text": [
            "Collecting pyngrok\n",
            "  Downloading pyngrok-7.0.5-py3-none-any.whl (21 kB)\n",
            "Requirement already satisfied: PyYAML in /usr/local/lib/python3.10/dist-packages (from pyngrok) (6.0.1)\n",
            "Installing collected packages: pyngrok\n",
            "Successfully installed pyngrok-7.0.5\n"
          ]
        }
      ]
    },
    {
      "cell_type": "code",
      "source": [
        "%%writefile my_streamlit_app.py\n",
        "import streamlit as st\n",
        "from sklearn.model_selection import train_test_split\n",
        "from sklearn import metrics\n",
        "from sklearn.linear_model import LogisticRegression\n",
        "import pandas as pd\n",
        "import matplotlib.pyplot as plt\n",
        "from sklearn import preprocessing\n",
        "import seaborn as sns\n",
        "\n",
        "data=pd.read_csv('Financial_inclusion_dataset.csv')\n",
        "data1=data.copy()\n",
        "data.drop(columns=['uniqueid'], inplace=True)\n",
        "\n",
        "from sklearn import preprocessing\n",
        "\n",
        "label_encoder = preprocessing.LabelEncoder()\n",
        "\n",
        "data['gender_of_respondent']= label_encoder.fit_transform(data['gender_of_respondent'])\n",
        "mapping_dict_gender_of_respondent = dict(zip(label_encoder.classes_, label_encoder.transform(label_encoder.classes_)))\n",
        "data['cellphone_access']= label_encoder.fit_transform(data['cellphone_access'])\n",
        "mapping_dict_cellphone_access = dict(zip(label_encoder.classes_, label_encoder.transform(label_encoder.classes_)))\n",
        "data['relationship_with_head'] = label_encoder.fit_transform(data['relationship_with_head'])\n",
        "mapping_dict_relationship_with_head = dict(zip(label_encoder.classes_, label_encoder.transform(label_encoder.classes_)))\n",
        "data['marital_status'] = label_encoder.fit_transform(data['marital_status'])\n",
        "mapping_dict_marital_status = dict(zip(label_encoder.classes_, label_encoder.transform(label_encoder.classes_)))\n",
        "data['job_type'] = label_encoder.fit_transform(data['job_type'])\n",
        "mapping_dict_job_type = dict(zip(label_encoder.classes_, label_encoder.transform(label_encoder.classes_)))\n",
        "data['education_level'] = label_encoder.fit_transform(data['education_level'])\n",
        "mapping_dict_education_level = dict(zip(label_encoder.classes_, label_encoder.transform(label_encoder.classes_)))\n",
        "data['location_type'] = label_encoder.fit_transform(data['location_type'])\n",
        "mapping_dict_location_type = dict(zip(label_encoder.classes_, label_encoder.transform(label_encoder.classes_)))\n",
        "data['country'] = label_encoder.fit_transform(data['country'])\n",
        "mapping_dict_country = dict(zip(label_encoder.classes_, label_encoder.transform(label_encoder.classes_)))\n",
        "data['bank_account'] = label_encoder.fit_transform(data['bank_account'])\n",
        "mapping_bank_account = dict(zip(label_encoder.classes_, label_encoder.transform(label_encoder.classes_)))\n",
        "y = data['bank_account']\n",
        "x = data.drop(['bank_account'], axis=1, errors='ignore')\n",
        "x_train,x_test,y_train,y_test = train_test_split(x,y,test_size=0.2,random_state=1000)\n",
        "model = LogisticRegression()\n",
        "model.fit(x_train, y_train)\n",
        "y_pred = (model.predict_proba(x_test)[:, 1] >= 0.7).astype(int)\n",
        "st.title(\"Welcome to my app\")\n",
        "#choice = st.radio('Select your choice', ('Visualize', 'predict','Description'))\n",
        "choice = st.selectbox('Select your choice', ('Visualize', 'predict'))\n",
        "\n",
        "if (choice == 'Visualize'):\n",
        "        status = st.selectbox('Select graph you want to visulize', ('','pie_chart_bank_account', 'Bank Account Ownership by Year',\n",
        "        'Bank Account Ownership by location_type' ,'Bank Account Ownership by cellphone_access' , 'Bank Account Ownership by gender_of_respondent',\n",
        "        'Bank Account Ownership by relationship_with_head' , 'Bank Account Ownership by education_level' , 'Bank Account Ownership by marital_status',\n",
        "        'Bank Account Ownership by job_type'))\n",
        "        if (status == ''):\n",
        "                st.write('choose a plot')\n",
        "        elif (status == 'pie_chart_bank_account'):\n",
        "                fig, ax = plt.subplots()\n",
        "                plt.pie(data1['bank_account'].value_counts(), labels=['Yes', 'No'], autopct=\"%1.1f%%\")\n",
        "                plt.title('Bank Account Ownership')\n",
        "                st.pyplot(fig)\n",
        "        elif (status == 'Bank Account Ownership by Year'):\n",
        "                fig, ax = plt.subplots()\n",
        "                sns.countplot(x='year', hue='bank_account', data=data1, ax=ax)\n",
        "                st.pyplot(fig)\n",
        "        elif (status == 'Bank Account Ownership by location_type'):\n",
        "                fig, ax = plt.subplots()\n",
        "                sns.countplot(x='location_type', hue='bank_account', data=data1, ax=ax)\n",
        "                st.pyplot(fig)\n",
        "        elif (status == 'Bank Account Ownership by cellphone_access'):\n",
        "                fig, ax = plt.subplots()\n",
        "                sns.countplot(x='cellphone_access', hue='bank_account', data=data1, ax=ax)\n",
        "                st.pyplot(fig)\n",
        "        elif (status == 'Bank Account Ownership by gender_of_respondent'):\n",
        "                fig, ax = plt.subplots()\n",
        "                sns.countplot(x='gender_of_respondent', hue='bank_account', data=data1, ax=ax)\n",
        "                st.pyplot(fig)\n",
        "        elif (status == 'Bank Account Ownership by relationship_with_head'):\n",
        "                fig, ax = plt.subplots()\n",
        "                sns.countplot(x='relationship_with_head', hue='bank_account', data=data1, ax=ax)\n",
        "                st.pyplot(fig)\n",
        "        elif (status == 'Bank Account Ownership by education_level'):\n",
        "                fig, ax = plt.subplots()\n",
        "                sns.countplot(x='education_level', hue='bank_account', data=data1, ax=ax)\n",
        "                st.pyplot(fig)\n",
        "        elif (status == 'Bank Account Ownership by marital_status'):\n",
        "                fig, ax = plt.subplots()\n",
        "                sns.countplot(x='marital_status', hue='bank_account', data=data1, ax=ax)\n",
        "                st.pyplot(fig)\n",
        "        elif (status == 'Bank Account Ownership by job_type'):\n",
        "                fig, ax = plt.subplots()\n",
        "                sns.countplot(x='job_type', hue='bank_account', data=data1, ax=ax)\n",
        "                st.pyplot(fig)\n",
        "else:\n",
        "\n",
        "        country = st.selectbox('Select your country', (\"Rwanda\",\"Tanzania\",\"Kenya\",\"Uganda\"))\n",
        "        country_map = mapping_dict_country[country]\n",
        "        year = st.selectbox('Select your year', (2016,2017,2018))\n",
        "        location_type = st.selectbox('Select your location_type', (\"Rural\",\"Urban\"))\n",
        "        location_type_map = mapping_dict_location_type[location_type]\n",
        "        cellphone_access = st.selectbox('Select your cellphone_access', (\"Yes\",\"No\"))\n",
        "        cellphone_access_map = mapping_dict_cellphone_access[cellphone_access]\n",
        "        household_size=st.number_input('enter a household_size')\n",
        "        age_of_respondent=st.number_input('enter an age_of_respondent')\n",
        "        gender_of_respondent = st.selectbox('Select the Gender of respondent', (\"Male\",\"Female\"))\n",
        "        gender_of_respondent_map = mapping_dict_gender_of_respondent[gender_of_respondent]\n",
        "        relationship_with_head = st.selectbox('Select your relationship_with_head', (\"Head of Household\",\"Spouse\",\n",
        "                                                                        \"Child\",\"Parent\",\"Other relative\"\n",
        "                                                                        \"Other non-relatives\"))\n",
        "        relationship_with_head_map = mapping_dict_relationship_with_head[relationship_with_head]\n",
        "        marital_status = st.selectbox('Select your marital_status', (\"Married/Living together\",\"Single/Never Married\",\n",
        "                                                                        \"Widowed\",\"Divorced/Seperated\",\"Dont know\"))\n",
        "        marital_status_map = mapping_dict_marital_status[marital_status]\n",
        "        education_level = st.selectbox('Select your education_level', (\"Primary education\",\"No formal education\",\n",
        "                                                                \"Secondary education\",\"Tertiary education\",\n",
        "                                                               \"Vocational/Specialised training\",\"Other/Dont know/RTA\"))\n",
        "        education_level_map = mapping_dict_education_level[education_level]\n",
        "        job_type = st.selectbox('Select your job_type', (\"Self employed\",\"Informally employed\",\"Farming and Fishing\",\n",
        "                                                 \"Remittance Dependent\",\"Other Income\" ,\"Formally employed Private\",\n",
        "                                                  \"No Income\",\"Formally employed Government\", \"Government Dependent\",\n",
        "                                                 \"Dont Know/Refuse to answer\"))\n",
        "        job_type_map = mapping_dict_job_type[job_type]\n",
        "        my_dict ={'country': country_map, 'year' : year , 'location_type' : location_type_map,\n",
        "         'cellphone_access': cellphone_access_map , 'household_size' : household_size,\n",
        "          'age_of_respondent': age_of_respondent , 'gender_of_respondent':gender_of_respondent_map,\n",
        "          'relationship_with_head': relationship_with_head_map , 'marital_status':marital_status_map,\n",
        "          'education_level': education_level_map , 'job_type': job_type_map}\n",
        "        data_test= pd.DataFrame(my_dict, index = [0])\n",
        "\n",
        "        if (st.button('Show my entry')):\n",
        "                st.write(data_test)\n",
        "        elif (st.button('predict')):\n",
        "                y_pred_test=(model.predict_proba(data_test)[:, 1] >= 0.7).astype(int)\n",
        "                if y_pred_test == 0:\n",
        "                     st.write('Your possible bank account state  is No')\n",
        "                else:\n",
        "                     st.write('Your possible bank account state  is Yes')\n",
        "\n",
        "\n",
        "\n"
      ],
      "metadata": {
        "colab": {
          "base_uri": "https://localhost:8080/"
        },
        "id": "puhimhmvLoiY",
        "outputId": "0d8d243f-1edc-4825-c1c1-e6dc4f353a54"
      },
      "execution_count": null,
      "outputs": [
        {
          "output_type": "stream",
          "name": "stdout",
          "text": [
            "Writing my_streamlit_app.py\n"
          ]
        }
      ]
    },
    {
      "cell_type": "code",
      "source": [
        "!streamlit run my_streamlit_app.py &>/content/logs.txt &"
      ],
      "metadata": {
        "id": "7bgbr5XTYijh"
      },
      "execution_count": null,
      "outputs": []
    },
    {
      "cell_type": "code",
      "source": [
        "!npx localtunnel --port 8501\n"
      ],
      "metadata": {
        "colab": {
          "base_uri": "https://localhost:8080/"
        },
        "id": "gE_estaIYn2z",
        "outputId": "6200e84a-6af6-4e54-f854-2c299e2ba28e"
      },
      "execution_count": null,
      "outputs": [
        {
          "output_type": "stream",
          "name": "stdout",
          "text": [
            "\u001b[K\u001b[?25hnpx: installed 22 in 3.166s\n",
            "your url is: https://whole-planets-stop.loca.lt\n",
            "/root/.npm/_npx/1054/lib/node_modules/localtunnel/bin/lt.js:81\n",
            "    throw err;\n",
            "    ^\n",
            "\n",
            "Error: connection refused: localtunnel.me:43097 (check your firewall settings)\n",
            "    at Socket.<anonymous> (/root/.npm/_npx/1054/lib/node_modules/\u001b[4mlocaltunnel\u001b[24m/lib/TunnelCluster.js:52:11)\n",
            "\u001b[90m    at Socket.emit (events.js:315:20)\u001b[39m\n",
            "\u001b[90m    at emitErrorNT (internal/streams/destroy.js:106:8)\u001b[39m\n",
            "\u001b[90m    at emitErrorCloseNT (internal/streams/destroy.js:74:3)\u001b[39m\n",
            "\u001b[90m    at processTicksAndRejections (internal/process/task_queues.js:80:21)\u001b[39m\n"
          ]
        }
      ]
    }
  ]
}